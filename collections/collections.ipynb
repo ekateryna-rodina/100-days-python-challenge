{
 "metadata": {
  "language_info": {
   "codemirror_mode": {
    "name": "ipython",
    "version": 3
   },
   "file_extension": ".py",
   "mimetype": "text/x-python",
   "name": "python",
   "nbconvert_exporter": "python",
   "pygments_lexer": "ipython3",
   "version": 3
  },
  "orig_nbformat": 2,
  "kernelspec": {
   "name": "python_defaultSpec_1596579053994",
   "display_name": "Python 3.7.7 64-bit"
  }
 },
 "nbformat": 4,
 "nbformat_minor": 2,
 "cells": [
  {
   "cell_type": "code",
   "execution_count": 1,
   "metadata": {},
   "outputs": [],
   "source": [
    "from collections import namedtuple, defaultdict, Counter, deque\n",
    "import csv\n",
    "import random\n",
    "from urllib.request import urlretrieve"
   ]
  },
  {
   "cell_type": "markdown",
   "metadata": {},
   "source": [
    "### Namedtuple"
   ]
  },
  {
   "cell_type": "code",
   "execution_count": 3,
   "metadata": {},
   "outputs": [
    {
     "output_type": "execute_result",
     "data": {
      "text/plain": "'bob'"
     },
     "metadata": {},
     "execution_count": 3
    }
   ],
   "source": [
    "User = namedtuple('User', 'name role')\n",
    "user = User(name='bob', role='coder')\n",
    "user.name"
   ]
  },
  {
   "cell_type": "code",
   "execution_count": 4,
   "metadata": {},
   "outputs": [
    {
     "output_type": "execute_result",
     "data": {
      "text/plain": "'bob is coder'"
     },
     "metadata": {},
     "execution_count": 4
    }
   ],
   "source": [
    "f'{user.name} is {user.role}'"
   ]
  },
  {
   "cell_type": "markdown",
   "metadata": {},
   "source": [
    "### Default dict"
   ]
  },
  {
   "cell_type": "code",
   "execution_count": 5,
   "metadata": {},
   "outputs": [],
   "source": [
    "users = {'bob': 'coder'}"
   ]
  },
  {
   "cell_type": "code",
   "execution_count": 7,
   "metadata": {},
   "outputs": [
    {
     "output_type": "execute_result",
     "data": {
      "text/plain": "'coder'"
     },
     "metadata": {},
     "execution_count": 7
    }
   ],
   "source": [
    "users.get('bob')"
   ]
  },
  {
   "cell_type": "code",
   "execution_count": 9,
   "metadata": {},
   "outputs": [
    {
     "output_type": "execute_result",
     "data": {
      "text/plain": "True"
     },
     "metadata": {},
     "execution_count": 9
    }
   ],
   "source": [
    "users.get('gilian') is None"
   ]
  },
  {
   "cell_type": "code",
   "execution_count": 10,
   "metadata": {},
   "outputs": [
    {
     "output_type": "execute_result",
     "data": {
      "text/plain": "[('mike', 10),\n ('julian', 7),\n ('bob', 5),\n ('mike', 11),\n ('julian', 8),\n ('bob', 6)]"
     },
     "metadata": {},
     "execution_count": 10
    }
   ],
   "source": [
    "challenges_done = [('mike', 10), ('julian', 7), ('bob', 5),\n",
    "                   ('mike', 11), ('julian', 8), ('bob', 6)]\n",
    "challenges_done"
   ]
  },
  {
   "cell_type": "code",
   "execution_count": 11,
   "metadata": {},
   "outputs": [
    {
     "output_type": "error",
     "ename": "KeyError",
     "evalue": "'mike'",
     "traceback": [
      "\u001b[0;31m---------------------------------------------------------------------------\u001b[0m",
      "\u001b[0;31mKeyError\u001b[0m                                  Traceback (most recent call last)",
      "\u001b[0;32m<ipython-input-11-7ab7651b443a>\u001b[0m in \u001b[0;36m<module>\u001b[0;34m\u001b[0m\n\u001b[1;32m      1\u001b[0m \u001b[0mchallenges\u001b[0m \u001b[0;34m=\u001b[0m \u001b[0;34m{\u001b[0m\u001b[0;34m}\u001b[0m\u001b[0;34m\u001b[0m\u001b[0;34m\u001b[0m\u001b[0m\n\u001b[1;32m      2\u001b[0m \u001b[0;32mfor\u001b[0m \u001b[0mname\u001b[0m\u001b[0;34m,\u001b[0m \u001b[0mscore\u001b[0m \u001b[0;32min\u001b[0m \u001b[0mchallenges_done\u001b[0m\u001b[0;34m:\u001b[0m\u001b[0;34m\u001b[0m\u001b[0;34m\u001b[0m\u001b[0m\n\u001b[0;32m----> 3\u001b[0;31m     \u001b[0mchallenges\u001b[0m\u001b[0;34m[\u001b[0m\u001b[0mname\u001b[0m\u001b[0;34m]\u001b[0m\u001b[0;34m.\u001b[0m\u001b[0mappend\u001b[0m\u001b[0;34m(\u001b[0m\u001b[0mscore\u001b[0m\u001b[0;34m)\u001b[0m\u001b[0;34m\u001b[0m\u001b[0;34m\u001b[0m\u001b[0m\n\u001b[0m",
      "\u001b[0;31mKeyError\u001b[0m: 'mike'"
     ]
    }
   ],
   "source": [
    "challenges = {}\n",
    "for name, score in challenges_done:\n",
    "    challenges[name].append(score)"
   ]
  },
  {
   "cell_type": "code",
   "execution_count": 13,
   "metadata": {},
   "outputs": [
    {
     "output_type": "execute_result",
     "data": {
      "text/plain": "defaultdict(list, {'mike': [10, 11], 'julian': [7, 8], 'bob': [5, 6]})"
     },
     "metadata": {},
     "execution_count": 13
    }
   ],
   "source": [
    "challenges = defaultdict(list)\n",
    "for name, score in challenges_done:\n",
    "    challenges[name].append(score)\n",
    "challenges"
   ]
  },
  {
   "cell_type": "markdown",
   "metadata": {},
   "source": [
    "### Counter"
   ]
  },
  {
   "cell_type": "code",
   "execution_count": 15,
   "metadata": {},
   "outputs": [],
   "source": [
    "words = \"\"\"Lorem Ipsum is simply dummy text of the printing and typesetting industry. Lorem Ipsum has been \n",
    "the industry's standard dummy text ever since the 1500s, when an unknown printer took a galley of type and \n",
    "scrambled it to make a type specimen book. It has survived not only five centuries, but also the leap into \n",
    "electronic typesetting, remaining essentially unchanged. It was popularised in the 1960s with the release of\n",
    "Letraset sheets containing Lorem Ipsum passages, and more recently with desktop publishing software like Aldus\n",
    "PageMaker including versions of Lorem Ipsum\"\"\".split()"
   ]
  },
  {
   "cell_type": "code",
   "execution_count": 16,
   "metadata": {},
   "outputs": [
    {
     "output_type": "execute_result",
     "data": {
      "text/plain": "Counter({'Lorem': 4,\n         'Ipsum': 4,\n         'is': 1,\n         'simply': 1,\n         'dummy': 2,\n         'text': 2,\n         'of': 4,\n         'the': 6,\n         'printing': 1,\n         'and': 3,\n         'typesetting': 1,\n         'industry.': 1,\n         'has': 2,\n         'been': 1,\n         \"industry's\": 1,\n         'standard': 1,\n         'ever': 1,\n         'since': 1,\n         '1500s,': 1,\n         'when': 1,\n         'an': 1,\n         'unknown': 1,\n         'printer': 1,\n         'took': 1,\n         'a': 2,\n         'galley': 1,\n         'type': 2,\n         'scrambled': 1,\n         'it': 1,\n         'to': 1,\n         'make': 1,\n         'specimen': 1,\n         'book.': 1,\n         'It': 2,\n         'survived': 1,\n         'not': 1,\n         'only': 1,\n         'five': 1,\n         'centuries,': 1,\n         'but': 1,\n         'also': 1,\n         'leap': 1,\n         'into': 1,\n         'electronic': 1,\n         'typesetting,': 1,\n         'remaining': 1,\n         'essentially': 1,\n         'unchanged.': 1,\n         'was': 1,\n         'popularised': 1,\n         'in': 1,\n         '1960s': 1,\n         'with': 2,\n         'release': 1,\n         'Letraset': 1,\n         'sheets': 1,\n         'containing': 1,\n         'passages,': 1,\n         'more': 1,\n         'recently': 1,\n         'desktop': 1,\n         'publishing': 1,\n         'software': 1,\n         'like': 1,\n         'Aldus': 1,\n         'PageMaker': 1,\n         'including': 1,\n         'versions': 1})"
     },
     "metadata": {},
     "execution_count": 16
    }
   ],
   "source": [
    "words_counts = Counter(words); words_counts"
   ]
  },
  {
   "cell_type": "code",
   "execution_count": 17,
   "metadata": {},
   "outputs": [
    {
     "output_type": "execute_result",
     "data": {
      "text/plain": "[('the', 6),\n ('Lorem', 4),\n ('Ipsum', 4),\n ('of', 4),\n ('and', 3),\n ('dummy', 2),\n ('text', 2),\n ('has', 2),\n ('a', 2),\n ('type', 2)]"
     },
     "metadata": {},
     "execution_count": 17
    }
   ],
   "source": [
    "words_counts.most_common(10)"
   ]
  },
  {
   "cell_type": "markdown",
   "metadata": {},
   "source": [
    "### Deque"
   ]
  },
  {
   "cell_type": "code",
   "execution_count": 18,
   "metadata": {},
   "outputs": [],
   "source": [
    "lst = list(range(10000000))\n",
    "deq = deque(range(10000000))"
   ]
  },
  {
   "cell_type": "code",
   "execution_count": 28,
   "metadata": {
    "tags": []
   },
   "outputs": [],
   "source": [
    "def insert_and_delete(ds):\n",
    "    for _ in range(10):\n",
    "        index = random.choice(range(100))\n",
    "        ds.remove(index)\n",
    "        ds.insert(index, index)\n"
   ]
  },
  {
   "cell_type": "code",
   "execution_count": 29,
   "metadata": {
    "tags": []
   },
   "outputs": [
    {
     "output_type": "stream",
     "name": "stdout",
     "text": "118 ms ± 10.1 ms per loop (mean ± std. dev. of 7 runs, 10 loops each)\n23.3 µs ± 3.9 µs per loop (mean ± std. dev. of 7 runs, 100000 loops each)\n"
    }
   ],
   "source": [
    "%timeit insert_and_delete(lst)\n",
    "%timeit insert_and_delete(deq)"
   ]
  },
  {
   "cell_type": "code",
   "execution_count": null,
   "metadata": {},
   "outputs": [],
   "source": []
  }
 ]
}