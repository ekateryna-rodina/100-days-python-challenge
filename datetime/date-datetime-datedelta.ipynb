{
 "metadata": {
  "language_info": {
   "codemirror_mode": {
    "name": "ipython",
    "version": 3
   },
   "file_extension": ".py",
   "mimetype": "text/x-python",
   "name": "python",
   "nbconvert_exporter": "python",
   "pygments_lexer": "ipython3",
   "version": 3
  },
  "orig_nbformat": 2,
  "kernelspec": {
   "name": "python_defaultSpec_1596383158075",
   "display_name": "Python 3.7.7 64-bit"
  }
 },
 "nbformat": 4,
 "nbformat_minor": 2,
 "cells": [
  {
   "cell_type": "code",
   "execution_count": 2,
   "metadata": {},
   "outputs": [],
   "source": [
    "from datetime import datetime, date\n",
    "from datetime import timedelta"
   ]
  },
  {
   "cell_type": "code",
   "execution_count": 8,
   "metadata": {},
   "outputs": [
    {
     "output_type": "execute_result",
     "data": {
      "text/plain": "datetime.datetime(2020, 8, 2, 11, 52, 53, 786174)"
     },
     "metadata": {},
     "execution_count": 8
    }
   ],
   "source": [
    "today_datetime = datetime.today(); today_datetime"
   ]
  },
  {
   "cell_type": "code",
   "execution_count": 9,
   "metadata": {},
   "outputs": [
    {
     "output_type": "execute_result",
     "data": {
      "text/plain": "datetime.date(2020, 8, 2)"
     },
     "metadata": {},
     "execution_count": 9
    }
   ],
   "source": [
    "today_date = date.today(); today_date"
   ]
  },
  {
   "cell_type": "code",
   "execution_count": 10,
   "metadata": {},
   "outputs": [
    {
     "output_type": "execute_result",
     "data": {
      "text/plain": "2020"
     },
     "metadata": {},
     "execution_count": 10
    }
   ],
   "source": [
    "today_date.year"
   ]
  },
  {
   "cell_type": "code",
   "execution_count": 11,
   "metadata": {},
   "outputs": [
    {
     "output_type": "execute_result",
     "data": {
      "text/plain": "2"
     },
     "metadata": {},
     "execution_count": 11
    }
   ],
   "source": [
    "today_date.day"
   ]
  },
  {
   "cell_type": "code",
   "execution_count": 12,
   "metadata": {},
   "outputs": [
    {
     "output_type": "execute_result",
     "data": {
      "text/plain": "datetime.date"
     },
     "metadata": {},
     "execution_count": 12
    }
   ],
   "source": [
    "marriage_day = date(2020, 12, 22); type(marriage_day)"
   ]
  },
  {
   "cell_type": "code",
   "execution_count": 13,
   "metadata": {
    "tags": []
   },
   "outputs": [
    {
     "output_type": "stream",
     "name": "stdout",
     "text": "It is 142 days left until our Anniversary\n"
    }
   ],
   "source": [
    "if marriage_day == today_date:\n",
    "    print('Yau it is 1 year Anniversary')\n",
    "else:\n",
    "    print(f'It is {(marriage_day - today_date).days} days left until our Anniversary')"
   ]
  },
  {
   "cell_type": "code",
   "execution_count": 14,
   "metadata": {},
   "outputs": [
    {
     "output_type": "execute_result",
     "data": {
      "text/plain": "datetime.timedelta(days=221)"
     },
     "metadata": {},
     "execution_count": 14
    }
   ],
   "source": [
    "past_christmas = date(2019, 12, 25)\n",
    "today_date - past_christmas"
   ]
  },
  {
   "cell_type": "code",
   "execution_count": 15,
   "metadata": {},
   "outputs": [
    {
     "output_type": "execute_result",
     "data": {
      "text/plain": "5"
     },
     "metadata": {},
     "execution_count": 15
    }
   ],
   "source": [
    "# timedelta is a class to calculate intervals\n",
    "td = timedelta(days=5, hours=5)\n",
    "td.days"
   ]
  },
  {
   "cell_type": "code",
   "execution_count": 16,
   "metadata": {},
   "outputs": [
    {
     "output_type": "execute_result",
     "data": {
      "text/plain": "5.0"
     },
     "metadata": {},
     "execution_count": 16
    }
   ],
   "source": [
    "# 5 days\n",
    "td.seconds / 60 / 60"
   ]
  },
  {
   "cell_type": "code",
   "execution_count": 17,
   "metadata": {},
   "outputs": [],
   "source": [
    "eta = timedelta(hours=6)\n",
    "date_time_after_delta = today_datetime + eta"
   ]
  },
  {
   "cell_type": "code",
   "execution_count": 18,
   "metadata": {},
   "outputs": [
    {
     "output_type": "execute_result",
     "data": {
      "text/plain": "'2020-08-02 17:52:53.786174'"
     },
     "metadata": {},
     "execution_count": 18
    }
   ],
   "source": [
    "str(date_time_after_delta)"
   ]
  },
  {
   "cell_type": "code",
   "execution_count": 20,
   "metadata": {},
   "outputs": [
    {
     "output_type": "execute_result",
     "data": {
      "text/plain": "datetime.datetime(2014, 7, 3, 23, 31, 22)"
     },
     "metadata": {},
     "execution_count": 20
    }
   ],
   "source": [
    "# translates ISO 8601 string to datetime\n",
    "import dateutil.parser as dt_parser\n",
    "date_time_f_parsed = dt_parser.parse('2014-07-03T23:31:22')\n",
    "date_time_f_parsed"
   ]
  },
  {
   "cell_type": "code",
   "execution_count": null,
   "metadata": {},
   "outputs": [],
   "source": []
  }
 ]
}