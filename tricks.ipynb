{
 "metadata": {
  "language_info": {
   "codemirror_mode": {
    "name": "ipython",
    "version": 3
   },
   "file_extension": ".py",
   "mimetype": "text/x-python",
   "name": "python",
   "nbconvert_exporter": "python",
   "pygments_lexer": "ipython3",
   "version": "3.7.7-final"
  },
  "orig_nbformat": 2,
  "kernelspec": {
   "name": "python_defaultSpec_1597608321772",
   "display_name": "Python 3.7.7 64-bit"
  }
 },
 "nbformat": 4,
 "nbformat_minor": 2,
 "cells": [
  {
   "cell_type": "code",
   "execution_count": 1,
   "metadata": {},
   "outputs": [
    {
     "output_type": "execute_result",
     "data": {
      "text/plain": "True"
     },
     "metadata": {},
     "execution_count": 1
    }
   ],
   "source": [
    "# lexicographic ordering\n",
    "(5, 3, 2) > (5, 1, 1)"
   ]
  },
  {
   "cell_type": "code",
   "execution_count": 1,
   "metadata": {},
   "outputs": [],
   "source": [
    "import pandas as pd\n",
    "\n",
    "battleTable = pd.read_csv('https://raw.githubusercontent.com/talkpython/100daysofcode-with-python-course/master/days/13-15-text-games/data/battle-table.csv')"
   ]
  },
  {
   "cell_type": "code",
   "execution_count": 2,
   "metadata": {},
   "outputs": [
    {
     "output_type": "execute_result",
     "data": {
      "text/plain": "     Attacker  Rock   Gun Lightning Devil Dragon Water   Air Paper Sponge  \\\n0        Rock  draw  lose      lose  lose   lose  lose  lose  lose    win   \n1         Gun   win  draw      lose  lose   lose  lose  lose  lose   lose   \n2   Lightning   win   win      draw  lose   lose  lose  lose  lose   lose   \n3       Devil   win   win       win  draw   lose  lose  lose  lose   lose   \n4      Dragon   win   win       win   win   draw  lose  lose  lose   lose   \n5       Water   win   win       win   win    win  draw  lose  lose   lose   \n6         Air   win   win       win   win    win   win  draw  lose   lose   \n7       Paper   win   win       win   win    win   win   win  draw   lose   \n8      Sponge  lose   win       win   win    win   win   win   win   draw   \n9        Wolf  lose  lose       win   win    win   win   win   win    win   \n10       Tree  lose  lose      lose   win    win   win   win   win    win   \n11      Human  lose  lose      lose  lose    win   win   win   win    win   \n12      Snake  lose  lose      lose  lose   lose   win   win   win    win   \n13   Scissors  lose  lose      lose  lose   lose  lose   win   win    win   \n14       Fire  lose  lose      lose  lose   lose  lose  lose   win    win   \n\n    Wolf  Tree Human Snake Scissors  Fire  \n0    win   win   win   win      win   win  \n1    win   win   win   win      win   win  \n2   lose   win   win   win      win   win  \n3   lose  lose   win   win      win   win  \n4   lose  lose  lose   win      win   win  \n5   lose  lose  lose  lose      win   win  \n6   lose  lose  lose  lose     lose   win  \n7   lose  lose  lose  lose     lose  lose  \n8   lose  lose  lose  lose     lose  lose  \n9   draw  lose  lose  lose     lose  lose  \n10   win  draw  lose  lose     lose  lose  \n11   win   win  draw  lose     lose  lose  \n12   win   win   win  draw     lose  lose  \n13   win   win   win   win     draw  lose  \n14   win   win   win   win      win  draw  ",
      "text/html": "<div>\n<style scoped>\n    .dataframe tbody tr th:only-of-type {\n        vertical-align: middle;\n    }\n\n    .dataframe tbody tr th {\n        vertical-align: top;\n    }\n\n    .dataframe thead th {\n        text-align: right;\n    }\n</style>\n<table border=\"1\" class=\"dataframe\">\n  <thead>\n    <tr style=\"text-align: right;\">\n      <th></th>\n      <th>Attacker</th>\n      <th>Rock</th>\n      <th>Gun</th>\n      <th>Lightning</th>\n      <th>Devil</th>\n      <th>Dragon</th>\n      <th>Water</th>\n      <th>Air</th>\n      <th>Paper</th>\n      <th>Sponge</th>\n      <th>Wolf</th>\n      <th>Tree</th>\n      <th>Human</th>\n      <th>Snake</th>\n      <th>Scissors</th>\n      <th>Fire</th>\n    </tr>\n  </thead>\n  <tbody>\n    <tr>\n      <th>0</th>\n      <td>Rock</td>\n      <td>draw</td>\n      <td>lose</td>\n      <td>lose</td>\n      <td>lose</td>\n      <td>lose</td>\n      <td>lose</td>\n      <td>lose</td>\n      <td>lose</td>\n      <td>win</td>\n      <td>win</td>\n      <td>win</td>\n      <td>win</td>\n      <td>win</td>\n      <td>win</td>\n      <td>win</td>\n    </tr>\n    <tr>\n      <th>1</th>\n      <td>Gun</td>\n      <td>win</td>\n      <td>draw</td>\n      <td>lose</td>\n      <td>lose</td>\n      <td>lose</td>\n      <td>lose</td>\n      <td>lose</td>\n      <td>lose</td>\n      <td>lose</td>\n      <td>win</td>\n      <td>win</td>\n      <td>win</td>\n      <td>win</td>\n      <td>win</td>\n      <td>win</td>\n    </tr>\n    <tr>\n      <th>2</th>\n      <td>Lightning</td>\n      <td>win</td>\n      <td>win</td>\n      <td>draw</td>\n      <td>lose</td>\n      <td>lose</td>\n      <td>lose</td>\n      <td>lose</td>\n      <td>lose</td>\n      <td>lose</td>\n      <td>lose</td>\n      <td>win</td>\n      <td>win</td>\n      <td>win</td>\n      <td>win</td>\n      <td>win</td>\n    </tr>\n    <tr>\n      <th>3</th>\n      <td>Devil</td>\n      <td>win</td>\n      <td>win</td>\n      <td>win</td>\n      <td>draw</td>\n      <td>lose</td>\n      <td>lose</td>\n      <td>lose</td>\n      <td>lose</td>\n      <td>lose</td>\n      <td>lose</td>\n      <td>lose</td>\n      <td>win</td>\n      <td>win</td>\n      <td>win</td>\n      <td>win</td>\n    </tr>\n    <tr>\n      <th>4</th>\n      <td>Dragon</td>\n      <td>win</td>\n      <td>win</td>\n      <td>win</td>\n      <td>win</td>\n      <td>draw</td>\n      <td>lose</td>\n      <td>lose</td>\n      <td>lose</td>\n      <td>lose</td>\n      <td>lose</td>\n      <td>lose</td>\n      <td>lose</td>\n      <td>win</td>\n      <td>win</td>\n      <td>win</td>\n    </tr>\n    <tr>\n      <th>5</th>\n      <td>Water</td>\n      <td>win</td>\n      <td>win</td>\n      <td>win</td>\n      <td>win</td>\n      <td>win</td>\n      <td>draw</td>\n      <td>lose</td>\n      <td>lose</td>\n      <td>lose</td>\n      <td>lose</td>\n      <td>lose</td>\n      <td>lose</td>\n      <td>lose</td>\n      <td>win</td>\n      <td>win</td>\n    </tr>\n    <tr>\n      <th>6</th>\n      <td>Air</td>\n      <td>win</td>\n      <td>win</td>\n      <td>win</td>\n      <td>win</td>\n      <td>win</td>\n      <td>win</td>\n      <td>draw</td>\n      <td>lose</td>\n      <td>lose</td>\n      <td>lose</td>\n      <td>lose</td>\n      <td>lose</td>\n      <td>lose</td>\n      <td>lose</td>\n      <td>win</td>\n    </tr>\n    <tr>\n      <th>7</th>\n      <td>Paper</td>\n      <td>win</td>\n      <td>win</td>\n      <td>win</td>\n      <td>win</td>\n      <td>win</td>\n      <td>win</td>\n      <td>win</td>\n      <td>draw</td>\n      <td>lose</td>\n      <td>lose</td>\n      <td>lose</td>\n      <td>lose</td>\n      <td>lose</td>\n      <td>lose</td>\n      <td>lose</td>\n    </tr>\n    <tr>\n      <th>8</th>\n      <td>Sponge</td>\n      <td>lose</td>\n      <td>win</td>\n      <td>win</td>\n      <td>win</td>\n      <td>win</td>\n      <td>win</td>\n      <td>win</td>\n      <td>win</td>\n      <td>draw</td>\n      <td>lose</td>\n      <td>lose</td>\n      <td>lose</td>\n      <td>lose</td>\n      <td>lose</td>\n      <td>lose</td>\n    </tr>\n    <tr>\n      <th>9</th>\n      <td>Wolf</td>\n      <td>lose</td>\n      <td>lose</td>\n      <td>win</td>\n      <td>win</td>\n      <td>win</td>\n      <td>win</td>\n      <td>win</td>\n      <td>win</td>\n      <td>win</td>\n      <td>draw</td>\n      <td>lose</td>\n      <td>lose</td>\n      <td>lose</td>\n      <td>lose</td>\n      <td>lose</td>\n    </tr>\n    <tr>\n      <th>10</th>\n      <td>Tree</td>\n      <td>lose</td>\n      <td>lose</td>\n      <td>lose</td>\n      <td>win</td>\n      <td>win</td>\n      <td>win</td>\n      <td>win</td>\n      <td>win</td>\n      <td>win</td>\n      <td>win</td>\n      <td>draw</td>\n      <td>lose</td>\n      <td>lose</td>\n      <td>lose</td>\n      <td>lose</td>\n    </tr>\n    <tr>\n      <th>11</th>\n      <td>Human</td>\n      <td>lose</td>\n      <td>lose</td>\n      <td>lose</td>\n      <td>lose</td>\n      <td>win</td>\n      <td>win</td>\n      <td>win</td>\n      <td>win</td>\n      <td>win</td>\n      <td>win</td>\n      <td>win</td>\n      <td>draw</td>\n      <td>lose</td>\n      <td>lose</td>\n      <td>lose</td>\n    </tr>\n    <tr>\n      <th>12</th>\n      <td>Snake</td>\n      <td>lose</td>\n      <td>lose</td>\n      <td>lose</td>\n      <td>lose</td>\n      <td>lose</td>\n      <td>win</td>\n      <td>win</td>\n      <td>win</td>\n      <td>win</td>\n      <td>win</td>\n      <td>win</td>\n      <td>win</td>\n      <td>draw</td>\n      <td>lose</td>\n      <td>lose</td>\n    </tr>\n    <tr>\n      <th>13</th>\n      <td>Scissors</td>\n      <td>lose</td>\n      <td>lose</td>\n      <td>lose</td>\n      <td>lose</td>\n      <td>lose</td>\n      <td>lose</td>\n      <td>win</td>\n      <td>win</td>\n      <td>win</td>\n      <td>win</td>\n      <td>win</td>\n      <td>win</td>\n      <td>win</td>\n      <td>draw</td>\n      <td>lose</td>\n    </tr>\n    <tr>\n      <th>14</th>\n      <td>Fire</td>\n      <td>lose</td>\n      <td>lose</td>\n      <td>lose</td>\n      <td>lose</td>\n      <td>lose</td>\n      <td>lose</td>\n      <td>lose</td>\n      <td>win</td>\n      <td>win</td>\n      <td>win</td>\n      <td>win</td>\n      <td>win</td>\n      <td>win</td>\n      <td>win</td>\n      <td>draw</td>\n    </tr>\n  </tbody>\n</table>\n</div>"
     },
     "metadata": {},
     "execution_count": 2
    }
   ],
   "source": [
    "battleTable"
   ]
  },
  {
   "cell_type": "code",
   "execution_count": null,
   "metadata": {},
   "outputs": [],
   "source": []
  }
 ]
}